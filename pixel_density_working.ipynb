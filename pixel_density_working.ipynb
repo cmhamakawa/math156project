{
 "cells": [
  {
   "cell_type": "code",
   "execution_count": 20,
   "metadata": {},
   "outputs": [
    {
     "data": {
      "text/plain": [
       "True"
      ]
     },
     "execution_count": 20,
     "metadata": {},
     "output_type": "execute_result"
    }
   ],
   "source": [
    "# DataFlair background removal \n",
    "\n",
    "# import necessary packages\n",
    "import os\n",
    "import cv2\n",
    "import numpy as np\n",
    "import mediapipe as mp\n",
    "\n",
    "\n",
    "# initialize mediapipe \n",
    "mp_selfie_segmentation = mp.solutions.selfie_segmentation\n",
    "selfie_segmentation = mp_selfie_segmentation.SelfieSegmentation(model_selection=1)\n",
    "\n",
    "# store background images in a list\n",
    "# image_path = 'images'\n",
    "# images = os.listdir(image_path)\n",
    "# INPUTS\n",
    "bg_image_name = 'neon_green_bg.jpeg'\n",
    "input_image_name = 'A_test.jpeg'\n",
    "saved_image_name = 'final_' + input_image_name\n",
    "\n",
    "image_index= 0\n",
    "bg_image = cv2.imread(bg_image_name)\n",
    "\n",
    "# flip the frame to horizontal direction (don't need)\n",
    "frame = cv2.imread(input_image_name)\n",
    "height , width, channel = frame.shape\n",
    "\n",
    "RGB = cv2.cvtColor(frame, cv2.COLOR_BGR2RGB)\n",
    "\n",
    "# get the result \n",
    "results = selfie_segmentation.process(RGB)\n",
    "\n",
    "# extract segmented mask\n",
    "mask = results.segmentation_mask\n",
    "\n",
    "# it returns true or false where the condition applies in the mask\n",
    "condition = np.stack(\n",
    "  (results.segmentation_mask,) * 3, axis=-1) > 0.6\n",
    "\n",
    "# resize the background image to the same size of the original frame\n",
    "bg_image = cv2.resize(bg_image, (width, height))\n",
    "\n",
    "# combine frame and background image using the condition\n",
    "output_image = np.where(condition, frame, bg_image)\n",
    "\n",
    "# show outputs\n",
    "#cv2.imshow(\"mask\", mask)\n",
    "cv2.imshow(\"Output\", output_image)\n",
    "# key = cv2.waitKey(1)\n",
    "# cv2.imshow(\"Frame\", frame)\n",
    "cv2.imwrite(saved_image_name, output_image)"
   ]
  }
 ],
 "metadata": {
  "kernelspec": {
   "display_name": "Python 3",
   "language": "python",
   "name": "python3"
  },
  "language_info": {
   "codemirror_mode": {
    "name": "ipython",
    "version": 3
   },
   "file_extension": ".py",
   "mimetype": "text/x-python",
   "name": "python",
   "nbconvert_exporter": "python",
   "pygments_lexer": "ipython3",
   "version": "3.8.3"
  }
 },
 "nbformat": 4,
 "nbformat_minor": 4
}
