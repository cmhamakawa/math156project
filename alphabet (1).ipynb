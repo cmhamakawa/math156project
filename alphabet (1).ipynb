{
 "cells": [
  {
   "cell_type": "code",
   "execution_count": 1,
   "id": "9e679f44",
   "metadata": {
    "_cell_guid": "b1076dfc-b9ad-4769-8c92-a6c4dae69d19",
    "_uuid": "8f2839f25d086af736a60e9eeb907d3b93b6e0e5",
    "execution": {
     "iopub.execute_input": "2022-11-24T03:22:15.499366Z",
     "iopub.status.busy": "2022-11-24T03:22:15.498525Z",
     "iopub.status.idle": "2022-11-24T03:22:24.179996Z",
     "shell.execute_reply": "2022-11-24T03:22:24.178502Z"
    },
    "papermill": {
     "duration": 8.694184,
     "end_time": "2022-11-24T03:22:24.183817",
     "exception": false,
     "start_time": "2022-11-24T03:22:15.489633",
     "status": "completed"
    },
    "tags": []
   },
   "outputs": [],
   "source": [
    "# Load Data\n",
    "import os\n",
    "import cv2\n",
    "import numpy as np\n",
    "\n",
    "# Data Visualisation\n",
    "import matplotlib.pyplot as plt\n",
    "\n",
    "# Model Training\n",
    "import tensorflow as tf\n",
    "from tensorflow.keras import utils\n",
    "from tensorflow.keras.optimizers import Adam\n",
    "from tensorflow.keras.models import Sequential\n",
    "from tensorflow.keras.layers import Dense, Dropout, Flatten, Conv2D, MaxPooling2D, BatchNormalization\n",
    "from sklearn.model_selection import train_test_split\n",
    "from sklearn.model_selection import train_test_split"
   ]
  },
  {
   "cell_type": "code",
   "execution_count": null,
   "id": "169e147e",
   "metadata": {
    "execution": {
     "iopub.execute_input": "2022-11-21T17:47:45.224086Z",
     "iopub.status.busy": "2022-11-21T17:47:45.223666Z",
     "iopub.status.idle": "2022-11-21T17:47:45.230073Z",
     "shell.execute_reply": "2022-11-21T17:47:45.228712Z",
     "shell.execute_reply.started": "2022-11-21T17:47:45.224053Z"
    },
    "papermill": {
     "duration": 0.00504,
     "end_time": "2022-11-24T03:22:24.194516",
     "exception": false,
     "start_time": "2022-11-24T03:22:24.189476",
     "status": "completed"
    },
    "tags": []
   },
   "outputs": [],
   "source": []
  },
  {
   "cell_type": "code",
   "execution_count": 2,
   "id": "27e9abe3",
   "metadata": {
    "execution": {
     "iopub.execute_input": "2022-11-24T03:22:24.207624Z",
     "iopub.status.busy": "2022-11-24T03:22:24.206617Z",
     "iopub.status.idle": "2022-11-24T03:22:24.213195Z",
     "shell.execute_reply": "2022-11-24T03:22:24.211669Z"
    },
    "papermill": {
     "duration": 0.015935,
     "end_time": "2022-11-24T03:22:24.215720",
     "exception": false,
     "start_time": "2022-11-24T03:22:24.199785",
     "status": "completed"
    },
    "tags": []
   },
   "outputs": [],
   "source": [
    "train_dir = '../input/asl-alphabet/asl_alphabet_train/asl_alphabet_train'\n",
    "test_dir = '../input/asl-alphabet/asl_alphabet_test/asl_alphabet_test'"
   ]
  },
  {
   "cell_type": "code",
   "execution_count": 3,
   "id": "3ca7aa07",
   "metadata": {
    "execution": {
     "iopub.execute_input": "2022-11-24T03:22:24.229186Z",
     "iopub.status.busy": "2022-11-24T03:22:24.228720Z",
     "iopub.status.idle": "2022-11-24T03:23:23.096835Z",
     "shell.execute_reply": "2022-11-24T03:23:23.095459Z"
    },
    "papermill": {
     "duration": 58.879072,
     "end_time": "2022-11-24T03:23:23.100411",
     "exception": false,
     "start_time": "2022-11-24T03:22:24.221339",
     "status": "completed"
    },
    "tags": []
   },
   "outputs": [
    {
     "name": "stdout",
     "output_type": "stream",
     "text": [
      "Obtaining images of N ...\n",
      "Obtaining images of R ...\n",
      "Obtaining images of space ...\n"
     ]
    }
   ],
   "source": [
    "def get_data(data_dir) :\n",
    "    images = []\n",
    "    labels = []\n",
    "    \n",
    "    dir_list = os.listdir(data_dir)\n",
    "    for i in range(3):\n",
    "        print(\"Obtaining images of\", dir_list[i], \"...\")\n",
    "        for image in os.listdir(data_dir + \"/\" + dir_list[i]):\n",
    "            img = cv2.imread(data_dir + '/' + dir_list[i] + '/' + image)\n",
    "            images.append(img)\n",
    "            labels.append(i)\n",
    "    \n",
    "    return images, labels\n",
    "        \n",
    "X, y = get_data(train_dir)"
   ]
  },
  {
   "cell_type": "code",
   "execution_count": 4,
   "id": "62adeaa1",
   "metadata": {
    "execution": {
     "iopub.execute_input": "2022-11-24T03:23:23.115209Z",
     "iopub.status.busy": "2022-11-24T03:23:23.114124Z",
     "iopub.status.idle": "2022-11-24T03:23:23.121620Z",
     "shell.execute_reply": "2022-11-24T03:23:23.120028Z"
    },
    "papermill": {
     "duration": 0.018188,
     "end_time": "2022-11-24T03:23:23.124953",
     "exception": false,
     "start_time": "2022-11-24T03:23:23.106765",
     "status": "completed"
    },
    "tags": []
   },
   "outputs": [
    {
     "name": "stdout",
     "output_type": "stream",
     "text": [
      "9000 9000\n"
     ]
    }
   ],
   "source": [
    "print(len(X), len(y))"
   ]
  },
  {
   "cell_type": "code",
   "execution_count": null,
   "id": "2d74cb46",
   "metadata": {
    "papermill": {
     "duration": 0.005488,
     "end_time": "2022-11-24T03:23:23.136751",
     "exception": false,
     "start_time": "2022-11-24T03:23:23.131263",
     "status": "completed"
    },
    "tags": []
   },
   "outputs": [],
   "source": []
  },
  {
   "cell_type": "code",
   "execution_count": 5,
   "id": "3f0979a2",
   "metadata": {
    "execution": {
     "iopub.execute_input": "2022-11-24T03:23:23.150791Z",
     "iopub.status.busy": "2022-11-24T03:23:23.149307Z",
     "iopub.status.idle": "2022-11-24T03:23:23.154385Z",
     "shell.execute_reply": "2022-11-24T03:23:23.153552Z"
    },
    "papermill": {
     "duration": 0.014226,
     "end_time": "2022-11-24T03:23:23.156515",
     "exception": false,
     "start_time": "2022-11-24T03:23:23.142289",
     "status": "completed"
    },
    "tags": []
   },
   "outputs": [],
   "source": [
    "classes = [\"N\", \"R\", \"space\"]"
   ]
  },
  {
   "cell_type": "code",
   "execution_count": 6,
   "id": "4eefe649",
   "metadata": {
    "execution": {
     "iopub.execute_input": "2022-11-24T03:23:23.169592Z",
     "iopub.status.busy": "2022-11-24T03:23:23.169149Z",
     "iopub.status.idle": "2022-11-24T03:23:23.447814Z",
     "shell.execute_reply": "2022-11-24T03:23:23.446198Z"
    },
    "papermill": {
     "duration": 0.290069,
     "end_time": "2022-11-24T03:23:23.452216",
     "exception": false,
     "start_time": "2022-11-24T03:23:23.162147",
     "status": "completed"
    },
    "tags": []
   },
   "outputs": [
    {
     "data": {
      "text/plain": [
       "<Figure size 432x288 with 0 Axes>"
      ]
     },
     "metadata": {},
     "output_type": "display_data"
    },
    {
     "data": {
      "image/png": "[encoded data removed]",
      "text/plain": [
       "<Figure size 1152x360 with 3 Axes>"
      ]
     },
     "metadata": {},
     "output_type": "display_data"
    }
   ],
   "source": [
    "def plot_sample_images():\n",
    "    figure = plt.figure()\n",
    "    plt.figure(figsize=(16,5))\n",
    "\n",
    "    for i in range (0,3):\n",
    "        plt.subplot(3,10,i+1)\n",
    "        plt.xticks([])\n",
    "        plt.yticks([])\n",
    "        path = train_dir + \"/{0}/{0}1.jpg\".format(classes[i])\n",
    "        img = plt.imread(path)\n",
    "        plt.imshow(img)\n",
    "        plt.xlabel(classes[i])\n",
    "        \n",
    "plot_sample_images()"
   ]
  },
  {
   "cell_type": "code",
   "execution_count": 7,
   "id": "51de7990",
   "metadata": {
    "execution": {
     "iopub.execute_input": "2022-11-24T03:23:23.486446Z",
     "iopub.status.busy": "2022-11-24T03:23:23.485810Z",
     "iopub.status.idle": "2022-11-24T03:23:29.366288Z",
     "shell.execute_reply": "2022-11-24T03:23:29.365048Z"
    },
    "papermill": {
     "duration": 5.897808,
     "end_time": "2022-11-24T03:23:29.369232",
     "exception": false,
     "start_time": "2022-11-24T03:23:23.471424",
     "status": "completed"
    },
    "tags": []
   },
   "outputs": [],
   "source": [
    "def preprocess_data(X, y):\n",
    "    np_X = np.array(X)\n",
    "    x_train = np_X.reshape(-1, 200*200)\n",
    "    normalised_X = np_X.astype('float32')/255.0\n",
    "    \n",
    "    label_encoded_y = utils.to_categorical(y)\n",
    "    \n",
    "    x_train, x_test, y_train, y_test = train_test_split(normalised_X, label_encoded_y, test_size = 0.1)\n",
    "    \n",
    "    return x_train, x_test, y_train, y_test\n",
    "\n",
    "x_train, x_test, y_train, y_test = preprocess_data(X, y)"
   ]
  },
  {
   "cell_type": "code",
   "execution_count": 8,
   "id": "1df1e8d6",
   "metadata": {
    "execution": {
     "iopub.execute_input": "2022-11-24T03:23:29.384569Z",
     "iopub.status.busy": "2022-11-24T03:23:29.383367Z",
     "iopub.status.idle": "2022-11-24T03:23:29.391842Z",
     "shell.execute_reply": "2022-11-24T03:23:29.390191Z"
    },
    "papermill": {
     "duration": 0.019157,
     "end_time": "2022-11-24T03:23:29.394791",
     "exception": false,
     "start_time": "2022-11-24T03:23:29.375634",
     "status": "completed"
    },
    "tags": []
   },
   "outputs": [
    {
     "name": "stdout",
     "output_type": "stream",
     "text": [
      "Training data: (8100, 200, 200, 3)\n",
      "Test data: (900, 200, 200, 3)\n"
     ]
    }
   ],
   "source": [
    "print(\"Training data:\", x_train.shape)\n",
    "print(\"Test data:\", x_test.shape)"
   ]
  },
  {
   "cell_type": "code",
   "execution_count": 9,
   "id": "ae1ef3b9",
   "metadata": {
    "execution": {
     "iopub.execute_input": "2022-11-24T03:23:29.409169Z",
     "iopub.status.busy": "2022-11-24T03:23:29.408726Z",
     "iopub.status.idle": "2022-11-24T03:23:29.696515Z",
     "shell.execute_reply": "2022-11-24T03:23:29.695567Z"
    },
    "papermill": {
     "duration": 0.298234,
     "end_time": "2022-11-24T03:23:29.699297",
     "exception": false,
     "start_time": "2022-11-24T03:23:29.401063",
     "status": "completed"
    },
    "tags": []
   },
   "outputs": [
    {
     "name": "stderr",
     "output_type": "stream",
     "text": [
      "2022-11-24 03:23:29.472870: I tensorflow/core/common_runtime/process_util.cc:146] Creating new thread pool with default inter op setting: 2. Tune using inter_op_parallelism_threads for best performance.\n"
     ]
    }
   ],
   "source": [
    "model = tf.keras.models.Sequential([\n",
    "    tf.keras.layers.Conv2D(16,(3,3),activation = \"relu\" , input_shape = (200,200,3)) ,\n",
    "    tf.keras.layers.MaxPooling2D(2,2),\n",
    "    tf.keras.layers.Conv2D(32,(3,3),activation = \"relu\") ,  \n",
    "    tf.keras.layers.MaxPooling2D(2,2),\n",
    "    tf.keras.layers.Conv2D(64,(3,3),activation = \"relu\") ,  \n",
    "    tf.keras.layers.MaxPooling2D(2,2),\n",
    "    tf.keras.layers.Conv2D(128,(3,3),activation = \"relu\"),  \n",
    "    tf.keras.layers.MaxPooling2D(2,2),\n",
    "    tf.keras.layers.Flatten(), \n",
    "    tf.keras.layers.Dense(550,activation=\"relu\"),      #Adding the Hidden layer\n",
    "    tf.keras.layers.Dropout(0.1,seed = 2019),\n",
    "    tf.keras.layers.Dense(400,activation =\"relu\"),\n",
    "    tf.keras.layers.Dropout(0.3,seed = 2019),\n",
    "    tf.keras.layers.Dense(300,activation=\"relu\"),\n",
    "    tf.keras.layers.Dropout(0.4,seed = 2019),\n",
    "    tf.keras.layers.Dense(200,activation =\"relu\"),\n",
    "    tf.keras.layers.Dropout(0.2,seed = 2019),\n",
    "    tf.keras.layers.Dense(3,activation = \"softmax\")   #Adding the Output Layer\n",
    "])"
   ]
  },
  {
   "cell_type": "code",
   "execution_count": 10,
   "id": "12fdba41",
   "metadata": {
    "execution": {
     "iopub.execute_input": "2022-11-24T03:23:29.715101Z",
     "iopub.status.busy": "2022-11-24T03:23:29.713500Z",
     "iopub.status.idle": "2022-11-24T03:23:29.723325Z",
     "shell.execute_reply": "2022-11-24T03:23:29.721777Z"
    },
    "papermill": {
     "duration": 0.02084,
     "end_time": "2022-11-24T03:23:29.726622",
     "exception": false,
     "start_time": "2022-11-24T03:23:29.705782",
     "status": "completed"
    },
    "tags": []
   },
   "outputs": [
    {
     "name": "stdout",
     "output_type": "stream",
     "text": [
      "Model: \"sequential\"\n",
      "_________________________________________________________________\n",
      "Layer (type)                 Output Shape              Param #   \n",
      "=================================================================\n",
      "conv2d (Conv2D)              (None, 198, 198, 16)      448       \n",
      "_________________________________________________________________\n",
      "max_pooling2d (MaxPooling2D) (None, 99, 99, 16)        0         \n",
      "_________________________________________________________________\n",
      "conv2d_1 (Conv2D)            (None, 97, 97, 32)        4640      \n",
      "_________________________________________________________________\n",
      "max_pooling2d_1 (MaxPooling2 (None, 48, 48, 32)        0         \n",
      "_________________________________________________________________\n",
      "conv2d_2 (Conv2D)            (None, 46, 46, 64)        18496     \n",
      "_________________________________________________________________\n",
      "max_pooling2d_2 (MaxPooling2 (None, 23, 23, 64)        0         \n",
      "_________________________________________________________________\n",
      "conv2d_3 (Conv2D)            (None, 21, 21, 128)       73856     \n",
      "_________________________________________________________________\n",
      "max_pooling2d_3 (MaxPooling2 (None, 10, 10, 128)       0         \n",
      "_________________________________________________________________\n",
      "flatten (Flatten)            (None, 12800)             0         \n",
      "_________________________________________________________________\n",
      "dense (Dense)                (None, 550)               7040550   \n",
      "_________________________________________________________________\n",
      "dropout (Dropout)            (None, 550)               0         \n",
      "_________________________________________________________________\n",
      "dense_1 (Dense)              (None, 400)               220400    \n",
      "_________________________________________________________________\n",
      "dropout_1 (Dropout)          (None, 400)               0         \n",
      "_________________________________________________________________\n",
      "dense_2 (Dense)              (None, 300)               120300    \n",
      "_________________________________________________________________\n",
      "dropout_2 (Dropout)          (None, 300)               0         \n",
      "_________________________________________________________________\n",
      "dense_3 (Dense)              (None, 200)               60200     \n",
      "_________________________________________________________________\n",
      "dropout_3 (Dropout)          (None, 200)               0         \n",
      "_________________________________________________________________\n",
      "dense_4 (Dense)              (None, 3)                 603       \n",
      "=================================================================\n",
      "Total params: 7,539,493\n",
      "Trainable params: 7,539,493\n",
      "Non-trainable params: 0\n",
      "_________________________________________________________________\n"
     ]
    }
   ],
   "source": [
    "model.summary()"
   ]
  },
  {
   "cell_type": "code",
   "execution_count": 11,
   "id": "c0c69df8",
   "metadata": {
    "execution": {
     "iopub.execute_input": "2022-11-24T03:23:29.741565Z",
     "iopub.status.busy": "2022-11-24T03:23:29.741086Z",
     "iopub.status.idle": "2022-11-24T03:23:29.760124Z",
     "shell.execute_reply": "2022-11-24T03:23:29.758760Z"
    },
    "papermill": {
     "duration": 0.030074,
     "end_time": "2022-11-24T03:23:29.763086",
     "exception": false,
     "start_time": "2022-11-24T03:23:29.733012",
     "status": "completed"
    },
    "tags": []
   },
   "outputs": [],
   "source": [
    "from tensorflow.keras.optimizers import RMSprop,SGD,Adam\n",
    "adam=Adam(learning_rate=0.001)\n",
    "model.compile(optimizer='adam', loss='categorical_crossentropy', metrics = ['acc'])"
   ]
  },
  {
   "cell_type": "code",
   "execution_count": 12,
   "id": "554a159f",
   "metadata": {
    "execution": {
     "iopub.execute_input": "2022-11-24T03:23:29.778254Z",
     "iopub.status.busy": "2022-11-24T03:23:29.777761Z",
     "iopub.status.idle": "2022-11-24T03:31:15.947924Z",
     "shell.execute_reply": "2022-11-24T03:31:15.946525Z"
    },
    "papermill": {
     "duration": 466.181504,
     "end_time": "2022-11-24T03:31:15.951033",
     "exception": false,
     "start_time": "2022-11-24T03:23:29.769529",
     "status": "completed"
    },
    "tags": []
   },
   "outputs": [
    {
     "name": "stderr",
     "output_type": "stream",
     "text": [
      "2022-11-24 03:23:34.695393: I tensorflow/compiler/mlir/mlir_graph_optimization_pass.cc:185] None of the MLIR Optimization Passes are enabled (registered 2)\n"
     ]
    },
    {
     "name": "stdout",
     "output_type": "stream",
     "text": [
      "Epoch 1/5\n",
      "254/254 [==============================] - 93s 362ms/step - loss: 0.4229 - acc: 0.8021\n",
      "Epoch 2/5\n",
      "254/254 [==============================] - 92s 361ms/step - loss: 0.0558 - acc: 0.9843\n",
      "Epoch 3/5\n",
      "254/254 [==============================] - 92s 364ms/step - loss: 0.0406 - acc: 0.9886\n",
      "Epoch 4/5\n",
      "254/254 [==============================] - 92s 361ms/step - loss: 0.0110 - acc: 0.9968\n",
      "Epoch 5/5\n",
      "254/254 [==============================] - 92s 363ms/step - loss: 8.5293e-04 - acc: 0.9996\n"
     ]
    }
   ],
   "source": [
    "history = model.fit(x_train, y_train,\n",
    "                    epochs = 5)"
   ]
  },
  {
   "cell_type": "code",
   "execution_count": 13,
   "id": "d4c3cf54",
   "metadata": {
    "execution": {
     "iopub.execute_input": "2022-11-24T03:31:16.126943Z",
     "iopub.status.busy": "2022-11-24T03:31:16.126436Z",
     "iopub.status.idle": "2022-11-24T03:31:19.516489Z",
     "shell.execute_reply": "2022-11-24T03:31:19.515212Z"
    },
    "papermill": {
     "duration": 3.480919,
     "end_time": "2022-11-24T03:31:19.519806",
     "exception": false,
     "start_time": "2022-11-24T03:31:16.038887",
     "status": "completed"
    },
    "tags": []
   },
   "outputs": [
    {
     "name": "stdout",
     "output_type": "stream",
     "text": [
      "29/29 [==============================] - 3s 92ms/step - loss: 2.0159e-04 - acc: 1.0000\n",
      "Test accuracy: 1.0\n",
      "Test loss: 0.00020158992265351117\n"
     ]
    }
   ],
   "source": [
    "test_loss, test_acc = model.evaluate(x_test, y_test)\n",
    "print('Test accuracy:', test_acc)\n",
    "print('Test loss:', test_loss)"
   ]
  },
  {
   "cell_type": "code",
   "execution_count": 14,
   "id": "7a644eac",
   "metadata": {
    "execution": {
     "iopub.execute_input": "2022-11-24T03:31:19.703015Z",
     "iopub.status.busy": "2022-11-24T03:31:19.701240Z",
     "iopub.status.idle": "2022-11-24T03:31:20.248138Z",
     "shell.execute_reply": "2022-11-24T03:31:20.246052Z"
    },
    "papermill": {
     "duration": 0.639567,
     "end_time": "2022-11-24T03:31:20.250647",
     "exception": true,
     "start_time": "2022-11-24T03:31:19.611080",
     "status": "failed"
    },
    "tags": []
   },
   "outputs": [
    {
     "ename": "KeyError",
     "evalue": "'val_accuracy'",
     "output_type": "error",
     "traceback": [
      "\u001b[0;31m---------------------------------------------------------------------------\u001b[0m",
      "\u001b[0;31mKeyError\u001b[0m                                  Traceback (most recent call last)",
      "\u001b[0;32m/tmp/ipykernel_19/1004072352.py\u001b[0m in \u001b[0;36m<module>\u001b[0;34m\u001b[0m\n\u001b[1;32m     17\u001b[0m \u001b[0;34m\u001b[0m\u001b[0m\n\u001b[1;32m     18\u001b[0m \u001b[0;34m\u001b[0m\u001b[0m\n\u001b[0;32m---> 19\u001b[0;31m \u001b[0mplot_results\u001b[0m\u001b[0;34m(\u001b[0m\u001b[0mmodel\u001b[0m\u001b[0;34m)\u001b[0m\u001b[0;34m\u001b[0m\u001b[0;34m\u001b[0m\u001b[0m\n\u001b[0m",
      "\u001b[0;32m/tmp/ipykernel_19/1004072352.py\u001b[0m in \u001b[0;36mplot_results\u001b[0;34m(model)\u001b[0m\n\u001b[1;32m      4\u001b[0m     \u001b[0mplt\u001b[0m\u001b[0;34m.\u001b[0m\u001b[0msubplot\u001b[0m\u001b[0;34m(\u001b[0m\u001b[0;36m3\u001b[0m\u001b[0;34m,\u001b[0m \u001b[0;36m2\u001b[0m\u001b[0;34m,\u001b[0m \u001b[0;36m1\u001b[0m\u001b[0;34m)\u001b[0m\u001b[0;34m\u001b[0m\u001b[0;34m\u001b[0m\u001b[0m\n\u001b[1;32m      5\u001b[0m     \u001b[0mplt\u001b[0m\u001b[0;34m.\u001b[0m\u001b[0mplot\u001b[0m\u001b[0;34m(\u001b[0m\u001b[0mhistory\u001b[0m\u001b[0;34m.\u001b[0m\u001b[0mhistory\u001b[0m\u001b[0;34m[\u001b[0m\u001b[0;34m'acc'\u001b[0m\u001b[0;34m]\u001b[0m\u001b[0;34m,\u001b[0m \u001b[0mlabel\u001b[0m \u001b[0;34m=\u001b[0m \u001b[0;34m'train_accuracy'\u001b[0m\u001b[0;34m)\u001b[0m\u001b[0;34m\u001b[0m\u001b[0;34m\u001b[0m\u001b[0m\n\u001b[0;32m----> 6\u001b[0;31m     \u001b[0mplt\u001b[0m\u001b[0;34m.\u001b[0m\u001b[0mplot\u001b[0m\u001b[0;34m(\u001b[0m\u001b[0mhistory\u001b[0m\u001b[0;34m.\u001b[0m\u001b[0mhistory\u001b[0m\u001b[0;34m[\u001b[0m\u001b[0;34m'val_accuracy'\u001b[0m\u001b[0;34m]\u001b[0m\u001b[0;34m,\u001b[0m \u001b[0mlabel\u001b[0m \u001b[0;34m=\u001b[0m \u001b[0;34m'val_accuracy'\u001b[0m\u001b[0;34m)\u001b[0m\u001b[0;34m\u001b[0m\u001b[0;34m\u001b[0m\u001b[0m\n\u001b[0m\u001b[1;32m      7\u001b[0m     \u001b[0mplt\u001b[0m\u001b[0;34m.\u001b[0m\u001b[0mxlabel\u001b[0m\u001b[0;34m(\u001b[0m\u001b[0;34m'epoch'\u001b[0m\u001b[0;34m)\u001b[0m\u001b[0;34m\u001b[0m\u001b[0;34m\u001b[0m\u001b[0m\n\u001b[1;32m      8\u001b[0m     \u001b[0mplt\u001b[0m\u001b[0;34m.\u001b[0m\u001b[0mylabel\u001b[0m\u001b[0;34m(\u001b[0m\u001b[0;34m'accuracy'\u001b[0m\u001b[0;34m)\u001b[0m\u001b[0;34m\u001b[0m\u001b[0;34m\u001b[0m\u001b[0m\n",
      "\u001b[0;31mKeyError\u001b[0m: 'val_accuracy'"
     ]
    },
    {
     "data": {
      "image/png": "[encoded data removed]",
      "text/plain": [
       "<Figure size 864x864 with 1 Axes>"
      ]
     },
     "metadata": {
      "needs_background": "light"
     },
     "output_type": "display_data"
    }
   ],
   "source": [
    "def plot_results(model):\n",
    "\n",
    "    plt.figure(figsize=(12, 12))\n",
    "    plt.subplot(3, 2, 1)\n",
    "    plt.plot(history.history['acc'], label = 'train_accuracy')\n",
    "    plt.plot(history.history['val_accuracy'], label = 'val_accuracy')\n",
    "    plt.xlabel('epoch')\n",
    "    plt.ylabel('accuracy')\n",
    "    plt.legend()\n",
    "    plt.subplot(3, 2, 2)\n",
    "    plt.plot(history.history['loss'], label = 'train_loss')\n",
    "    plt.plot(history.history['val_loss'], label = 'val_loss')\n",
    "    plt.xlabel('epoch')\n",
    "    plt.ylabel('accuracy')\n",
    "    plt.legend()\n",
    "    plt.show()\n",
    "\n",
    "\n",
    "plot_results(model)"
   ]
  },
  {
   "cell_type": "code",
   "execution_count": null,
   "id": "1be7355a",
   "metadata": {
    "execution": {
     "iopub.execute_input": "2022-11-21T18:16:13.732810Z",
     "iopub.status.busy": "2022-11-21T18:16:13.732361Z",
     "iopub.status.idle": "2022-11-21T18:16:13.743064Z",
     "shell.execute_reply": "2022-11-21T18:16:13.741081Z",
     "shell.execute_reply.started": "2022-11-21T18:16:13.732774Z"
    },
    "papermill": {
     "duration": null,
     "end_time": null,
     "exception": null,
     "start_time": null,
     "status": "pending"
    },
    "tags": []
   },
   "outputs": [],
   "source": []
  },
  {
   "cell_type": "code",
   "execution_count": null,
   "id": "445f94c3",
   "metadata": {
    "execution": {
     "iopub.execute_input": "2022-11-21T18:16:18.742826Z",
     "iopub.status.busy": "2022-11-21T18:16:18.742346Z",
     "iopub.status.idle": "2022-11-21T18:16:20.139208Z",
     "shell.execute_reply": "2022-11-21T18:16:20.136991Z",
     "shell.execute_reply.started": "2022-11-21T18:16:18.742773Z"
    },
    "papermill": {
     "duration": null,
     "end_time": null,
     "exception": null,
     "start_time": null,
     "status": "pending"
    },
    "tags": []
   },
   "outputs": [],
   "source": []
  },
  {
   "cell_type": "code",
   "execution_count": null,
   "id": "9898e009",
   "metadata": {
    "execution": {
     "iopub.execute_input": "2022-11-21T18:04:43.771725Z",
     "iopub.status.busy": "2022-11-21T18:04:43.771158Z",
     "iopub.status.idle": "2022-11-21T18:04:43.780044Z",
     "shell.execute_reply": "2022-11-21T18:04:43.778581Z",
     "shell.execute_reply.started": "2022-11-21T18:04:43.771683Z"
    },
    "papermill": {
     "duration": null,
     "end_time": null,
     "exception": null,
     "start_time": null,
     "status": "pending"
    },
    "tags": []
   },
   "outputs": [],
   "source": []
  }
 ],
 "metadata": {
  "kernelspec": {
   "display_name": "Python 3",
   "language": "python",
   "name": "python3"
  },
  "language_info": {
   "codemirror_mode": {
    "name": "ipython",
    "version": 3
   },
   "file_extension": ".py",
   "mimetype": "text/x-python",
   "name": "python",
   "nbconvert_exporter": "python",
   "pygments_lexer": "ipython3",
   "version": "3.7.12"
  },
  "papermill": {
   "default_parameters": {},
   "duration": 557.946151,
   "end_time": "2022-11-24T03:31:23.858838",
   "environment_variables": {},
   "exception": true,
   "input_path": "__notebook__.ipynb",
   "output_path": "__notebook__.ipynb",
   "parameters": {},
   "start_time": "2022-11-24T03:22:05.912687",
   "version": "2.3.4"
  }
 },
 "nbformat": 4,
 "nbformat_minor": 5
}
